{
 "metadata": {
  "name": "",
  "signature": "sha256:b8ef7869b9103aca9082d7052fa260c1a1099fbe8f72059396e60e0e9697df23"
 },
 "nbformat": 3,
 "nbformat_minor": 0,
 "worksheets": [
  {
   "cells": [
    {
     "cell_type": "heading",
     "level": 1,
     "metadata": {},
     "source": [
      "Computational Physics"
     ]
    },
    {
     "cell_type": "heading",
     "level": 2,
     "metadata": {},
     "source": [
      "\u00dcbungsblatt 7"
     ]
    },
    {
     "cell_type": "heading",
     "level": 3,
     "metadata": {},
     "source": [
      "    Kevin Dungs  \u2013  Kevin Heinicke  \u2013  Holger Stevens"
     ]
    },
    {
     "cell_type": "code",
     "collapsed": false,
     "input": [
      "%matplotlib inline\n",
      "\n",
      "import numpy as np\n",
      "import matplotlib.pyplot as plt"
     ],
     "language": "python",
     "metadata": {},
     "outputs": []
    },
    {
     "cell_type": "code",
     "collapsed": false,
     "input": [
      "def generate_random_potts(L, q=2):\n",
      "    return np.random.randint(0, q, size=(L, L))\n",
      "\n",
      "def calculate_hamiltonian(grid, J=1):\n",
      "    return -J * (\n",
      "        len(np.where(np.diff(grid, axis=0).flatten() == 0)[0])\n",
      "      + len(np.where(np.diff(grid, axis=1).flatten() == 0)[0])\n",
      "    )\n",
      "\n",
      "def draw_map(grid):\n",
      "    plt.pcolor(grid)"
     ],
     "language": "python",
     "metadata": {},
     "outputs": []
    },
    {
     "cell_type": "code",
     "collapsed": false,
     "input": [
      "g = generate_random_potts(100, 3)\n",
      "H = calculate_hamiltonian(g)"
     ],
     "language": "python",
     "metadata": {},
     "outputs": []
    },
    {
     "cell_type": "code",
     "collapsed": false,
     "input": [],
     "language": "python",
     "metadata": {},
     "outputs": []
    }
   ],
   "metadata": {}
  }
 ]
}