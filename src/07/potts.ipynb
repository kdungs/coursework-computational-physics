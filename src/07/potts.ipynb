{
 "metadata": {
  "name": "",
  "signature": "sha256:b2d397deb14063c5bb81562b0134637518e834b7ed19954490815f77c987399c"
 },
 "nbformat": 3,
 "nbformat_minor": 0,
 "worksheets": [
  {
   "cells": [
    {
     "cell_type": "heading",
     "level": 1,
     "metadata": {},
     "source": [
      "Computational Physics"
     ]
    },
    {
     "cell_type": "heading",
     "level": 2,
     "metadata": {},
     "source": [
      "\u00dcbungsblatt 7"
     ]
    },
    {
     "cell_type": "heading",
     "level": 3,
     "metadata": {},
     "source": [
      "    Kevin Dungs  \u2013  Kevin Heinicke  \u2013  Holger Stevens"
     ]
    },
    {
     "cell_type": "code",
     "collapsed": false,
     "input": [
      "%matplotlib inline\n",
      "\n",
      "import numpy as np\n",
      "import matplotlib.pyplot as plt"
     ],
     "language": "python",
     "metadata": {},
     "outputs": [],
     "prompt_number": 1
    },
    {
     "cell_type": "code",
     "collapsed": false,
     "input": [
      "# 10 loops, best of 3: 132 ms per loop\n",
      "class UnionFind:\n",
      "    \"\"\" Fallback implementation of UnionFind in pure Python.\n",
      "        Be aware that this might take ages.\n",
      "    \"\"\" \n",
      "    def __init__(self):\n",
      "        self._parents = {}\n",
      "    \n",
      "    def make_set(self, x):\n",
      "        self._parents[x] = x;\n",
      "    \n",
      "    def union(self, x, y):\n",
      "        root_x = self.find(x)\n",
      "        root_y = self.find(y)\n",
      "        if root_x < root_y:\n",
      "            self._parents[root_y] = root_x\n",
      "        else:\n",
      "            self._parents[root_x] = root_y\n",
      "     \n",
      "    def find(self, x):\n",
      "        p = self._parents[x]\n",
      "        if p == x:\n",
      "            return x;\n",
      "        return self.find(p)"
     ],
     "language": "python",
     "metadata": {},
     "outputs": [],
     "prompt_number": 2
    },
    {
     "cell_type": "code",
     "collapsed": false,
     "input": [
      "# use the C++ version instead\n",
      "# 10 loops, best of 3: 166 ms per loop\n",
      "from unionfind import UnionFind"
     ],
     "language": "python",
     "metadata": {},
     "outputs": [],
     "prompt_number": 2
    },
    {
     "cell_type": "code",
     "collapsed": false,
     "input": [
      "def generate_random_potts(L, q=2):\n",
      "    return np.random.randint(0, q, size=(L, L))\n",
      "\n",
      "def calculate_hamiltonian(grid, J=1):\n",
      "    return -J * (\n",
      "        len(np.where(np.diff(grid, axis=0).flatten() == 0)[0])\n",
      "      + len(np.where(np.diff(grid, axis=1).flatten() == 0)[0])\n",
      "    )\n",
      "\n",
      "def draw_map(grid, labels):\n",
      "    plt.pcolor(grid, alpha=0.5, cmap=plt.cm.prism)\n",
      "    it = np.nditer([grid, labels], flags=['multi_index'], op_flags=[['readonly'], ['readonly']])\n",
      "    while not it.finished:\n",
      "        plt.text(it.multi_index[1] + .4, it.multi_index[0] + .1, int(it[1]))\n",
      "        plt.text(it.multi_index[1] + .4, it.multi_index[0] + .6, int(it[0]))\n",
      "        it.iternext()"
     ],
     "language": "python",
     "metadata": {},
     "outputs": [],
     "prompt_number": 3
    },
    {
     "cell_type": "code",
     "collapsed": false,
     "input": [
      "g = generate_random_potts(100, 3)\n",
      "H = calculate_hamiltonian(g)\n",
      "    \n",
      "def make_trees(grid, p=.5):\n",
      "    ny, nx = grid.shape\n",
      "    neighbours_x = np.hstack([np.zeros((ny, 1), dtype=np.bool), np.diff(grid, axis=1) == 0])\n",
      "    neighbours_y = np.vstack([np.zeros((1, nx), dtype=np.bool), np.diff(grid, axis=0) == 0])\n",
      "    \n",
      "    uf = UnionFind()\n",
      "    current_label = 0\n",
      "    labels = np.zeros(grid.shape)\n",
      "    it = np.nditer([neighbours_x, neighbours_y], flags=['multi_index'], op_flags=[['readonly'], ['readonly']])\n",
      "    while not it.finished:\n",
      "        nx, ny = it[0], it[1]\n",
      "        y, x = it.multi_index\n",
      "        px, py = np.random.random(size=2)\n",
      "        if px < p and nx:\n",
      "            labels[y, x] = labels[y, x - 1]\n",
      "            if py < p and ny:\n",
      "                uf.union(int(labels[y, x - 1]), int(labels[y - 1, x]))\n",
      "        elif py < p and ny:\n",
      "            labels[y, x] = labels[y - 1, x]\n",
      "        else:\n",
      "            current_label += 1\n",
      "            uf.make_set(int(current_label))\n",
      "            labels[y, x] = current_label\n",
      "        it.iternext()\n",
      "    \n",
      "    for l in np.nditer(labels, flags=[]):\n",
      "        l = uf.find(int(l))\n",
      "    \n",
      "    return labels\n",
      "                \n",
      "        \n",
      "    \n",
      "%timeit make_trees(g)"
     ],
     "language": "python",
     "metadata": {},
     "outputs": [
      {
       "output_type": "stream",
       "stream": "stdout",
       "text": [
        "10 loops, best of 3: 166 ms per loop\n"
       ]
      }
     ],
     "prompt_number": 4
    },
    {
     "cell_type": "code",
     "collapsed": false,
     "input": [
      "class SwendsenWang:\n",
      "    def __init__(self, grid):\n",
      "        self._grid = grid\n",
      "        self._uf = UnionFind()\n",
      "    \n",
      "    def _make_trees(self):\n",
      "        "
     ],
     "language": "python",
     "metadata": {},
     "outputs": []
    },
    {
     "cell_type": "code",
     "collapsed": false,
     "input": [],
     "language": "python",
     "metadata": {},
     "outputs": []
    }
   ],
   "metadata": {}
  }
 ]
}