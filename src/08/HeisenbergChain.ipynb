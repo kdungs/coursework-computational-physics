{
 "metadata": {
  "name": "",
  "signature": "sha256:1c5004b30d15ee50fe3305d0eab12f403a889a599e241c9579f353e171eafb1a"
 },
 "nbformat": 3,
 "nbformat_minor": 0,
 "worksheets": [
  {
   "cells": [
    {
     "cell_type": "markdown",
     "metadata": {},
     "source": [
      "# Computational Physics \u2013\u00a0\u00dcbungsblatt 8\n",
      "## Kevin Dungs \u2013\u00a0Kevin Heinicke \u2013\u00a0Holger Stevens\n",
      "### Hausaufgabe 14"
     ]
    },
    {
     "cell_type": "code",
     "collapsed": false,
     "input": [
      "%matplotlib inline"
     ],
     "language": "python",
     "metadata": {},
     "outputs": []
    },
    {
     "cell_type": "code",
     "collapsed": false,
     "input": [
      "import numpy as np\n",
      "import matplotlib.pyplot as plt"
     ],
     "language": "python",
     "metadata": {},
     "outputs": []
    },
    {
     "cell_type": "code",
     "collapsed": false,
     "input": [
      "N = 10\n",
      "size = 2**N"
     ],
     "language": "python",
     "metadata": {},
     "outputs": []
    },
    {
     "cell_type": "code",
     "collapsed": false,
     "input": [
      "H = np.zeros((size, size))\n",
      "for s in range(0, size):\n",
      "    for i in range(0, N):\n",
      "        j = (i + 1) % N\n",
      "        mask_i = 1 << i\n",
      "        mask_j = 1 << j\n",
      "        bit_i = bool(s & mask_i)\n",
      "        bit_j = bool(s & mask_j)\n",
      "      \n",
      "        if bit_i == bit_j:\n",
      "            H[s, s] += 1\n",
      "        else:\n",
      "            H[s, s] += -1\n",
      "            x = s ^ (mask_i | mask_j)  # swap bits at position i and i+1\n",
      "            H[s, x] += 2\n",
      "H *= -1. / 4"
     ],
     "language": "python",
     "metadata": {},
     "outputs": []
    },
    {
     "cell_type": "code",
     "collapsed": false,
     "input": [
      "evalues, evectors = np.linalg.eig(H)\n",
      "\n",
      "# We expect to have only real eigenvalues, otherwise there's a problem\n",
      "Es = np.real_if_close(evalues)"
     ],
     "language": "python",
     "metadata": {},
     "outputs": []
    },
    {
     "cell_type": "code",
     "collapsed": false,
     "input": [
      "def partition_function(E, T):\n",
      "    beta = 1. / T\n",
      "    return np.sum(np.exp(-beta * E))\n",
      "\n",
      "Ts = np.linspace(1, 10, 100)\n",
      "Zs = [partition_function(Es, T) for T in Ts]\n",
      "plt.plot(Ts, Zs)\n",
      "plt.xlabel('T')\n",
      "_ = plt.ylabel('Z')"
     ],
     "language": "python",
     "metadata": {},
     "outputs": []
    },
    {
     "cell_type": "code",
     "collapsed": false,
     "input": [
      "def average_energy(E, T):\n",
      "    Z = partition_function(E, T)\n",
      "    beta = 1. / T\n",
      "    return 1. / Z * np.sum(E * np.exp(-beta * E))\n",
      "\n",
      "Us = [average_energy(Es, T) for T in Ts]\n",
      "plt.plot(Ts, Us)\n",
      "plt.xlabel('T')\n",
      "_ = plt.ylabel('U')"
     ],
     "language": "python",
     "metadata": {},
     "outputs": []
    },
    {
     "cell_type": "code",
     "collapsed": false,
     "input": [
      "def heat_capacity(E, T, N):\n",
      "    return 1. / T ** 2 / N ** 2 * np.var(E)\n",
      "\n",
      "Cs = [heat_capacity(Es, T, N) for T in Ts]\n",
      "plt.plot(Ts, Cs)\n",
      "plt.xlabel('T')\n",
      "_ = plt.ylabel('C')"
     ],
     "language": "python",
     "metadata": {},
     "outputs": []
    },
    {
     "cell_type": "code",
     "collapsed": false,
     "input": [],
     "language": "python",
     "metadata": {},
     "outputs": []
    }
   ],
   "metadata": {}
  }
 ]
}