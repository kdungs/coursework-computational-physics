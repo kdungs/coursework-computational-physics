{
 "metadata": {
  "name": "",
  "signature": "sha256:0ebc0fd1ce2a39526c38f3e44b19d29e1dd9863440f3ddad1c20f353a1e37a42"
 },
 "nbformat": 3,
 "nbformat_minor": 0,
 "worksheets": [
  {
   "cells": [
    {
     "cell_type": "markdown",
     "metadata": {},
     "source": [
      "# Computational Physics \u2013\u00a0\u00dcbungsblatt 8\n",
      "## Kevin Dungs \u2013\u00a0Kevin Heinicke \u2013\u00a0Holger Stevens\n",
      "### Hausaufgabe 14"
     ]
    },
    {
     "cell_type": "markdown",
     "metadata": {},
     "source": [
      "Im Folgenden ist immer $k_B = 1$."
     ]
    },
    {
     "cell_type": "code",
     "collapsed": false,
     "input": [
      "%matplotlib inline"
     ],
     "language": "python",
     "metadata": {},
     "outputs": [],
     "prompt_number": 1
    },
    {
     "cell_type": "code",
     "collapsed": false,
     "input": [
      "import numpy as np\n",
      "import matplotlib.pyplot as plt"
     ],
     "language": "python",
     "metadata": {},
     "outputs": [],
     "prompt_number": 2
    },
    {
     "cell_type": "code",
     "collapsed": false,
     "input": [
      "N = 10\n",
      "size = 2**N"
     ],
     "language": "python",
     "metadata": {},
     "outputs": [],
     "prompt_number": 3
    },
    {
     "cell_type": "markdown",
     "metadata": {},
     "source": [
      "_An dieser Stelle stehen ein paar Bemerkungen dazu, wie die Matrix aufgestellt wird._"
     ]
    },
    {
     "cell_type": "code",
     "collapsed": false,
     "input": [
      "H = np.zeros((size, size))\n",
      "for s in range(0, size):\n",
      "    for i in range(0, N):\n",
      "        j = (i + 1) % N\n",
      "        mask_i = 1 << i\n",
      "        mask_j = 1 << j\n",
      "        bit_i = bool(s & mask_i)\n",
      "        bit_j = bool(s & mask_j)\n",
      "      \n",
      "        if bit_i == bit_j:\n",
      "            H[s, s] += 1\n",
      "        else:\n",
      "            H[s, s] += -1\n",
      "            x = s ^ (mask_i | mask_j)  # swap bits at position i and i+1\n",
      "            H[s, x] += 2\n",
      "H *= -1. / 4"
     ],
     "language": "python",
     "metadata": {},
     "outputs": [],
     "prompt_number": 4
    },
    {
     "cell_type": "markdown",
     "metadata": {},
     "source": [
      "Die Berechnung der Eigenwerte $E_i$ (und zugeh\u00f6rigen Eigenvektoren) geschieht mit einer Funktion aus Numpy."
     ]
    },
    {
     "cell_type": "code",
     "collapsed": false,
     "input": [
      "evalues, evectors = np.linalg.eig(H)\n",
      "\n",
      "# We expect to have only real eigenvalues, otherwise there's a problem\n",
      "Es = np.real_if_close(evalues)  # Drop all imaginary parts very close to 0"
     ],
     "language": "python",
     "metadata": {},
     "outputs": [],
     "prompt_number": 5
    },
    {
     "cell_type": "markdown",
     "metadata": {},
     "source": [
      "Die Zustandssumme $Z$ ist definiert als\n",
      "\n",
      "\\begin{equation}\n",
      "Z = \\sum_i \\exp(-\\beta E_i)\n",
      "\\end{equation}"
     ]
    },
    {
     "cell_type": "code",
     "collapsed": false,
     "input": [
      "def partition_function(E, T):\n",
      "    beta = 1. / T\n",
      "    return np.sum(np.exp(-beta * E))\n",
      "\n",
      "Ts = np.linspace(1, 10, 100)\n",
      "Zs = [partition_function(Es, T) for T in Ts]\n",
      "plt.plot(Ts, Zs)\n",
      "plt.xlabel('$T$')\n",
      "_ = plt.ylabel('$Z$')"
     ],
     "language": "python",
     "metadata": {},
     "outputs": [
      {
       "metadata": {},
       "output_type": "display_data",
       "png": "[encoded data removed]",
       "text": [
        "<matplotlib.figure.Figure at 0x112652e10>"
       ]
      }
     ],
     "prompt_number": 6
    },
    {
     "cell_type": "markdown",
     "metadata": {},
     "source": [
      "F\u00fcr die Innere Energie $U$ gilt\n",
      "\n",
      "\\begin{align}\n",
      "U &= \\frac{\\partial\\ln Z}{\\partial\\beta} \\\\\n",
      "  &= \\frac{1}{Z} \\sum_i E_i \\exp(-\\beta E_i)\n",
      "\\end{align}"
     ]
    },
    {
     "cell_type": "code",
     "collapsed": false,
     "input": [
      "def average_energy(E, T):\n",
      "    Z = partition_function(E, T)\n",
      "    beta = 1. / T\n",
      "    return 1. / Z * np.sum(E * np.exp(-beta * E))\n",
      "\n",
      "Us = [average_energy(Es, T) for T in Ts]\n",
      "plt.plot(Ts, Us)\n",
      "plt.xlabel('$T$')\n",
      "_ = plt.ylabel('$U$')"
     ],
     "language": "python",
     "metadata": {},
     "outputs": [
      {
       "metadata": {},
       "output_type": "display_data",
       "png": "[encoded data removed]",
       "text": [
        "<matplotlib.figure.Figure at 0x116a8a190>"
       ]
      }
     ],
     "prompt_number": 7
    },
    {
     "cell_type": "markdown",
     "metadata": {},
     "source": [
      "F\u00fcr die W\u00e4rmekapazit\u00e4t gilt\n",
      "\n",
      "\\begin{align}\n",
      "C_V &= \\beta^2 \\frac{\\partial U}{\\partial\\beta} \\\\\n",
      "    &= \\beta^2 \\left\\{ \\frac{1}{Z^2} \\left(\\sum_i E_i \\exp(-\\beta E_i)\\right)^2 - \\frac{1}{Z} \\sum_i E_i^2 \\exp(-\\beta E_i) \\right\\}\n",
      "\\end{align}"
     ]
    },
    {
     "cell_type": "code",
     "collapsed": false,
     "input": [
      "def heat_capacity(E, T):\n",
      "    beta = 1. / T\n",
      "    Z = partition_function(E, T)\n",
      "    return beta ** 2 * (1. / Z ** 2 * np.sum(E * np.exp(-beta * E)) ** 2 - 1. / Z * np.sum(E ** 2 * np.exp(-beta * E)))\n",
      "\n",
      "Cs = np.array([heat_capacity(Es, T) for T in Ts])\n",
      "Cs_specific = Cs / N\n",
      "plt.plot(Ts, Cs_specific)\n",
      "plt.xlabel('$T$')\n",
      "_ = plt.ylabel('$C_V$')"
     ],
     "language": "python",
     "metadata": {},
     "outputs": [
      {
       "metadata": {},
       "output_type": "display_data",
       "png": "[encoded data removed]",
       "text": [
        "<matplotlib.figure.Figure at 0x1169a7a90>"
       ]
      }
     ],
     "prompt_number": 8
    }
   ],
   "metadata": {}
  }
 ]
}